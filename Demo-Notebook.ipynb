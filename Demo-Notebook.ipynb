{
 "cells": [
  {
   "cell_type": "code",
   "execution_count": 1,
   "metadata": {},
   "outputs": [],
   "source": [
    "# imports here\n",
    "\n",
    "import hist\n",
    "import boost_histogram as bh"
   ]
  },
  {
   "cell_type": "markdown",
   "metadata": {},
   "source": [
    "# 1. Features to add (Project 1)"
   ]
  },
  {
   "cell_type": "markdown",
   "metadata": {},
   "source": [
    "## Example - 1.1 "
   ]
  },
  {
   "cell_type": "code",
   "execution_count": 2,
   "metadata": {},
   "outputs": [],
   "source": [
    "# Data generation\n",
    "\n",
    "import numpy as np\n",
    "\n",
    "# Random numbers from -1 to 1\n",
    "x, y = np.random.random_sample([2, 1_000_000])*2 - 1\n",
    "\n",
    "# Only hits inside radius 1 are \"valid\"\n",
    "valid = (x**2 + y**2) < 1"
   ]
  },
  {
   "cell_type": "code",
   "execution_count": 3,
   "metadata": {},
   "outputs": [],
   "source": [
    "# Pure boost-histogram\n",
    "import boost_histogram as bh\n",
    "\n",
    "h = bh.Histogram(\n",
    "    bh.axis.Regular(10, -1, 1, metadata={'name':'x'}),\n",
    "    bh.axis.Regular(10, -1, 1, metadata={'name':'y'}),\n",
    "    bh.axis.Integer(0, 2, underflow=False, overflow=False, metadata={'name':'valid'}),\n",
    ")\n",
    "\n",
    "h.fill(x, y, valid)\n",
    "\n",
    "valid_only = h[:, :, bh.loc(True)] # Passing True directly happens to work here as well\n",
    "valid_only = h[{2:bh.loc(True)}]   # Alternate way to do the same thing ### BROKEN in 0.6.2\n",
    "\n",
    "valid_and_invalid = h[:, :, ::bh.sum]                 # All (valid and invalid)\n",
    "valid_and_invalid = h[{2:slice(None, None, bh.sum)}]   # Alternate way to do the same thing"
   ]
  },
  {
   "cell_type": "code",
   "execution_count": 4,
   "metadata": {},
   "outputs": [],
   "source": [
    "# Hypothetical Hist\n",
    "\n",
    "from hist import NamedHist, axis\n",
    "\n",
    "h = NamedHist(\n",
    "    axis.Regular(10, -1, 1, name=\"x\"),\n",
    "    axis.Regular(10, -1, 1, name=\"y\"),\n",
    "    axis.bool(name=\"valid\"),\n",
    ")\n",
    "\n",
    "h.fill(x=x, y=y, valid=valid)\n",
    "\n",
    "valid_only = h[{\"valid\": bh.loc(True)}]\n",
    "valid_and_invalid = h[{\"valid\": slice(None, None, bh.sum)}]"
   ]
  },
  {
   "cell_type": "markdown",
   "metadata": {},
   "source": [
    "## Example - 1.2"
   ]
  },
  {
   "cell_type": "code",
   "execution_count": 5,
   "metadata": {},
   "outputs": [],
   "source": [
    "from numpy.testing import assert_array_equal\n",
    "\n",
    "# Data generation\n",
    "\n",
    "import numpy as np\n",
    "\n",
    "# Random numbers from -1 to 1\n",
    "x, y = np.random.random_sample([2, 1_000_000])*2 - 1\n",
    "\n",
    "# Only hits inside radius 1 are \"valid\"\n",
    "valid = (x**2 + y**2) < 1\n",
    "\n",
    "# Hypothetical Hist\n",
    "\n",
    "from hist import NamedHist, axis\n",
    "\n",
    "h = NamedHist(\n",
    "    axis.Regular(10, -1, 1, name=\"x\"),\n",
    "    axis.Regular(10, -1, 1, name=\"y\"),\n",
    "    axis.bool(name=\"valid\"),\n",
    ")\n",
    "\n",
    "# Passing parameters in any order gives the same h.view()\n",
    "h.fill(x=x, y=y, valid=valid)\n",
    "a = h.view()\n",
    "h.reset()\n",
    "\n",
    "h.fill(y=y, valid=valid, x=x)\n",
    "b = h.view()\n",
    "h.reset()\n",
    "\n",
    "h.fill(valid=valid, x=x, y=y)\n",
    "c = h.view()\n",
    "h.reset()\n",
    "\n",
    "assert_array_equal(a, b)\n",
    "assert_array_equal(b, c)\n",
    "assert_array_equal(c, a)"
   ]
  },
  {
   "cell_type": "markdown",
   "metadata": {},
   "source": [
    "## Example - 1.3"
   ]
  },
  {
   "cell_type": "code",
   "execution_count": 6,
   "metadata": {},
   "outputs": [
    {
     "ename": "ValueError",
     "evalue": "Axis: Regular(10, -1, 1, metadata={'name': None, 'title': None}) `name` should be a valid Identifier.",
     "output_type": "error",
     "traceback": [
      "\u001b[0;31m---------------------------------------------------------------------------\u001b[0m",
      "\u001b[0;31mValueError\u001b[0m                                Traceback (most recent call last)",
      "\u001b[0;32m<ipython-input-6-a87880f9da93>\u001b[0m in \u001b[0;36m<module>\u001b[0;34m\u001b[0m\n\u001b[1;32m      4\u001b[0m     \u001b[0maxis\u001b[0m\u001b[0;34m.\u001b[0m\u001b[0mRegular\u001b[0m\u001b[0;34m(\u001b[0m\u001b[0;36m10\u001b[0m\u001b[0;34m,\u001b[0m \u001b[0;34m-\u001b[0m\u001b[0;36m1\u001b[0m\u001b[0;34m,\u001b[0m \u001b[0;36m1\u001b[0m\u001b[0;34m)\u001b[0m\u001b[0;34m,\u001b[0m\u001b[0;34m\u001b[0m\u001b[0;34m\u001b[0m\u001b[0m\n\u001b[1;32m      5\u001b[0m     \u001b[0maxis\u001b[0m\u001b[0;34m.\u001b[0m\u001b[0mRegular\u001b[0m\u001b[0;34m(\u001b[0m\u001b[0;36m10\u001b[0m\u001b[0;34m,\u001b[0m \u001b[0;34m-\u001b[0m\u001b[0;36m1\u001b[0m\u001b[0;34m,\u001b[0m \u001b[0;36m1\u001b[0m\u001b[0;34m,\u001b[0m \u001b[0mname\u001b[0m\u001b[0;34m=\u001b[0m\u001b[0;34m\"y\"\u001b[0m\u001b[0;34m)\u001b[0m\u001b[0;34m,\u001b[0m\u001b[0;34m\u001b[0m\u001b[0;34m\u001b[0m\u001b[0m\n\u001b[0;32m----> 6\u001b[0;31m     \u001b[0maxis\u001b[0m\u001b[0;34m.\u001b[0m\u001b[0mbool\u001b[0m\u001b[0;34m(\u001b[0m\u001b[0mname\u001b[0m\u001b[0;34m=\u001b[0m\u001b[0;34m\"valid\"\u001b[0m\u001b[0;34m)\u001b[0m\u001b[0;34m,\u001b[0m\u001b[0;34m\u001b[0m\u001b[0;34m\u001b[0m\u001b[0m\n\u001b[0m\u001b[1;32m      7\u001b[0m )\n",
      "\u001b[0;32m~/Chanchal_Hist/src/hist/named.py\u001b[0m in \u001b[0;36m__init__\u001b[0;34m(self, *args, **kwargs)\u001b[0m\n\u001b[1;32m     16\u001b[0m             \u001b[0;32mif\u001b[0m \u001b[0;34m(\u001b[0m\u001b[0maxis\u001b[0m\u001b[0;34m.\u001b[0m\u001b[0mname\u001b[0m \u001b[0;32mis\u001b[0m \u001b[0;32mNone\u001b[0m\u001b[0;34m)\u001b[0m \u001b[0;32mor\u001b[0m \u001b[0;34m(\u001b[0m\u001b[0;32mnot\u001b[0m \u001b[0maxis\u001b[0m\u001b[0;34m.\u001b[0m\u001b[0mname\u001b[0m\u001b[0;34m.\u001b[0m\u001b[0misidentifier\u001b[0m\u001b[0;34m(\u001b[0m\u001b[0;34m)\u001b[0m\u001b[0;34m)\u001b[0m\u001b[0;34m:\u001b[0m\u001b[0;34m\u001b[0m\u001b[0;34m\u001b[0m\u001b[0m\n\u001b[1;32m     17\u001b[0m                 raise ValueError(\n\u001b[0;32m---> 18\u001b[0;31m                     \u001b[0;34m\"Axis: {} `name` should be a valid Identifier.\"\u001b[0m\u001b[0;34m.\u001b[0m\u001b[0mformat\u001b[0m\u001b[0;34m(\u001b[0m\u001b[0maxis\u001b[0m\u001b[0;34m)\u001b[0m\u001b[0;34m\u001b[0m\u001b[0;34m\u001b[0m\u001b[0m\n\u001b[0m\u001b[1;32m     19\u001b[0m                 )\n\u001b[1;32m     20\u001b[0m             \u001b[0;31m# two or more axis should not have the same names.\u001b[0m\u001b[0;34m\u001b[0m\u001b[0;34m\u001b[0m\u001b[0;34m\u001b[0m\u001b[0m\n",
      "\u001b[0;31mValueError\u001b[0m: Axis: Regular(10, -1, 1, metadata={'name': None, 'title': None}) `name` should be a valid Identifier."
     ]
    }
   ],
   "source": [
    "# Gives error if any axis name is not set in NamedHist\n",
    "\n",
    "h = NamedHist(\n",
    "    axis.Regular(10, -1, 1),\n",
    "    axis.Regular(10, -1, 1, name=\"y\"),\n",
    "    axis.bool(name=\"valid\"),\n",
    ")"
   ]
  },
  {
   "cell_type": "code",
   "execution_count": 7,
   "metadata": {},
   "outputs": [
    {
     "ename": "ValueError",
     "evalue": "Conflicting axis names. All axes should have different names.\nAxis: Regular(10, -1, 1, metadata={'name': 'x', 'title': None}) `name` has already been used.",
     "output_type": "error",
     "traceback": [
      "\u001b[0;31m---------------------------------------------------------------------------\u001b[0m",
      "\u001b[0;31mValueError\u001b[0m                                Traceback (most recent call last)",
      "\u001b[0;32m<ipython-input-7-49a84a8d818a>\u001b[0m in \u001b[0;36m<module>\u001b[0;34m\u001b[0m\n\u001b[1;32m      4\u001b[0m     \u001b[0maxis\u001b[0m\u001b[0;34m.\u001b[0m\u001b[0mRegular\u001b[0m\u001b[0;34m(\u001b[0m\u001b[0;36m10\u001b[0m\u001b[0;34m,\u001b[0m \u001b[0;34m-\u001b[0m\u001b[0;36m1\u001b[0m\u001b[0;34m,\u001b[0m \u001b[0;36m1\u001b[0m\u001b[0;34m,\u001b[0m \u001b[0mname\u001b[0m\u001b[0;34m=\u001b[0m\u001b[0;34m\"x\"\u001b[0m\u001b[0;34m)\u001b[0m\u001b[0;34m,\u001b[0m\u001b[0;34m\u001b[0m\u001b[0;34m\u001b[0m\u001b[0m\n\u001b[1;32m      5\u001b[0m     \u001b[0maxis\u001b[0m\u001b[0;34m.\u001b[0m\u001b[0mRegular\u001b[0m\u001b[0;34m(\u001b[0m\u001b[0;36m10\u001b[0m\u001b[0;34m,\u001b[0m \u001b[0;34m-\u001b[0m\u001b[0;36m1\u001b[0m\u001b[0;34m,\u001b[0m \u001b[0;36m1\u001b[0m\u001b[0;34m,\u001b[0m \u001b[0mname\u001b[0m\u001b[0;34m=\u001b[0m\u001b[0;34m\"x\"\u001b[0m\u001b[0;34m)\u001b[0m\u001b[0;34m,\u001b[0m\u001b[0;34m\u001b[0m\u001b[0;34m\u001b[0m\u001b[0m\n\u001b[0;32m----> 6\u001b[0;31m     \u001b[0maxis\u001b[0m\u001b[0;34m.\u001b[0m\u001b[0mRegular\u001b[0m\u001b[0;34m(\u001b[0m\u001b[0;36m10\u001b[0m\u001b[0;34m,\u001b[0m \u001b[0;34m-\u001b[0m\u001b[0;36m1\u001b[0m\u001b[0;34m,\u001b[0m \u001b[0;36m1\u001b[0m\u001b[0;34m,\u001b[0m \u001b[0mname\u001b[0m\u001b[0;34m=\u001b[0m\u001b[0;34m\"y\"\u001b[0m\u001b[0;34m)\u001b[0m\u001b[0;34m,\u001b[0m\u001b[0;34m\u001b[0m\u001b[0;34m\u001b[0m\u001b[0m\n\u001b[0m\u001b[1;32m      7\u001b[0m )\n",
      "\u001b[0;32m~/Chanchal_Hist/src/hist/named.py\u001b[0m in \u001b[0;36m__init__\u001b[0;34m(self, *args, **kwargs)\u001b[0m\n\u001b[1;32m     22\u001b[0m                 raise ValueError(\n\u001b[1;32m     23\u001b[0m                     \u001b[0;34m\"Conflicting axis names. All axes should have different names.\\n\"\u001b[0m\u001b[0;34m\u001b[0m\u001b[0;34m\u001b[0m\u001b[0m\n\u001b[0;32m---> 24\u001b[0;31m                     \u001b[0;34m\"Axis: {} `name` has already been used.\"\u001b[0m\u001b[0;34m.\u001b[0m\u001b[0mformat\u001b[0m\u001b[0;34m(\u001b[0m\u001b[0maxis\u001b[0m\u001b[0;34m)\u001b[0m\u001b[0;34m\u001b[0m\u001b[0;34m\u001b[0m\u001b[0m\n\u001b[0m\u001b[1;32m     25\u001b[0m                 )\n\u001b[1;32m     26\u001b[0m             \u001b[0mself\u001b[0m\u001b[0;34m.\u001b[0m\u001b[0mname2int\u001b[0m\u001b[0;34m[\u001b[0m\u001b[0maxis\u001b[0m\u001b[0;34m.\u001b[0m\u001b[0mname\u001b[0m\u001b[0;34m]\u001b[0m \u001b[0;34m=\u001b[0m \u001b[0mi\u001b[0m\u001b[0;34m\u001b[0m\u001b[0;34m\u001b[0m\u001b[0m\n",
      "\u001b[0;31mValueError\u001b[0m: Conflicting axis names. All axes should have different names.\nAxis: Regular(10, -1, 1, metadata={'name': 'x', 'title': None}) `name` has already been used."
     ]
    }
   ],
   "source": [
    "# Gives error if axes contain duplicate names\n",
    "\n",
    "h = NamedHist(\n",
    "    axis.Regular(10, -1, 1, name=\"x\"),\n",
    "    axis.Regular(10, -1, 1, name=\"x\"),\n",
    "    axis.Regular(10, -1, 1, name=\"y\"),\n",
    ")"
   ]
  },
  {
   "cell_type": "markdown",
   "metadata": {},
   "source": [
    "# 2. Plots to add (Project 2)"
   ]
  },
  {
   "cell_type": "markdown",
   "metadata": {},
   "source": [
    "## Example - 2.1"
   ]
  },
  {
   "cell_type": "code",
   "execution_count": 8,
   "metadata": {},
   "outputs": [
    {
     "data": {
      "image/png": "[encoded data removed]",
      "text/plain": [
       "<Figure size 720x720 with 2 Axes>"
      ]
     },
     "metadata": {
      "needs_background": "light"
     },
     "output_type": "display_data"
    }
   ],
   "source": [
    "from hist import Hist, axis\n",
    "\n",
    "data = np.random.normal(size=10_000)\n",
    "h = Hist(\n",
    "    axis.Regular(50, -3, 3, title=\"data [units]\"),\n",
    ")\n",
    "h.fill(data)\n",
    "\n",
    "def pdf(x):\n",
    "    return 1/np.sqrt(2*np.pi) * np.exp(-.5*x**2)\n",
    "\n",
    "ax1, ax2 = h.pull_plot(pdf)"
   ]
  },
  {
   "cell_type": "markdown",
   "metadata": {},
   "source": [
    "## Example - 2.2\n",
    "\n",
    "We may want to change the `figure size` or `ratio between the sizes of the two plots`.\n",
    "\n",
    "The default plot above produces a `3:1` ratio between the subplots.\n",
    "\n",
    "In the next cell we will create a `1:1` ratio between the subplots."
   ]
  },
  {
   "cell_type": "code",
   "execution_count": 9,
   "metadata": {},
   "outputs": [
    {
     "data": {
      "image/png": "[encoded data removed]",
      "text/plain": [
       "<Figure size 720x720 with 2 Axes>"
      ]
     },
     "metadata": {
      "needs_background": "light"
     },
     "output_type": "display_data"
    }
   ],
   "source": [
    "from hist import Hist, axis\n",
    "import matplotlib.pyplot as plt\n",
    "import matplotlib.gridspec as gridspec\n",
    "\n",
    "data = np.random.normal(size=10_000)\n",
    "h = Hist(\n",
    "    axis.Regular(50, -3, 3, title=\"data [units]\"),\n",
    ")\n",
    "h.fill(data)\n",
    "\n",
    "def pdf(x):\n",
    "    return 1/np.sqrt(2*np.pi) * np.exp(-.5*x**2)\n",
    "\n",
    "fig = plt.figure(figsize=(10, 10), constrained_layout=True)\n",
    "gs = gridspec.GridSpec(2, 1, figure=fig)\n",
    "ax = fig.add_subplot(gs[0:1, 0])\n",
    "pull_ax = fig.add_subplot(gs[1:, 0])\n",
    "\n",
    "ax1, ax2 = h.pull_plot(pdf, ax=ax, pull_ax=pull_ax)"
   ]
  },
  {
   "cell_type": "markdown",
   "metadata": {},
   "source": [
    "## Example - 2.3\n",
    "\n",
    "Here we will create a `3:2` ratio between the subplots."
   ]
  },
  {
   "cell_type": "code",
   "execution_count": 10,
   "metadata": {},
   "outputs": [
    {
     "data": {
      "image/png": "[encoded data removed]",
      "text/plain": [
       "<Figure size 720x720 with 2 Axes>"
      ]
     },
     "metadata": {
      "needs_background": "light"
     },
     "output_type": "display_data"
    }
   ],
   "source": [
    "from hist import Hist, axis\n",
    "import matplotlib.pyplot as plt\n",
    "import matplotlib.gridspec as gridspec\n",
    "\n",
    "data = np.random.normal(size=10_000)\n",
    "h = Hist(\n",
    "    axis.Regular(50, -3, 3, title=\"data [units]\"),\n",
    ")\n",
    "h.fill(data)\n",
    "\n",
    "def pdf(x):\n",
    "    return 1/np.sqrt(2*np.pi) * np.exp(-.5*x**2)\n",
    "\n",
    "fig = plt.figure(figsize=(10, 10), constrained_layout=True)\n",
    "gs = gridspec.GridSpec(5, 1, figure=fig)\n",
    "ax = fig.add_subplot(gs[0:3, 0])\n",
    "pull_ax = fig.add_subplot(gs[3:, 0])\n",
    "\n",
    "ax1, ax2 = h.pull_plot(pdf, ax=ax, pull_ax=pull_ax)"
   ]
  },
  {
   "cell_type": "markdown",
   "metadata": {},
   "source": [
    "## Example - 2.4\n",
    "\n",
    "`title` can be `None` in Hist."
   ]
  },
  {
   "cell_type": "code",
   "execution_count": 11,
   "metadata": {},
   "outputs": [],
   "source": [
    "h = Hist(\n",
    "    axis.Regular(50, -3, 3),\n",
    ")"
   ]
  },
  {
   "cell_type": "markdown",
   "metadata": {},
   "source": [
    "# 3. Check performance of `fill()`"
   ]
  },
  {
   "cell_type": "markdown",
   "metadata": {},
   "source": [
    "## Example - 3.1\n",
    "`fill()` in `NamedHist`"
   ]
  },
  {
   "cell_type": "code",
   "execution_count": 12,
   "metadata": {},
   "outputs": [
    {
     "name": "stdout",
     "output_type": "stream",
     "text": [
      "\n",
      "        Fills only allowed by passing values with the corresponding keyword `name`.\n",
      "\n",
      "        Parameters\n",
      "        ----------\n",
      "        **values : dict\n",
      "            Values passed as assigned keyword arguments.\n",
      "        weight : List[Union[Array[float], Array[int], Array[str], float, int, str]]]\n",
      "            Provide weights (only if the histogram storage supports it)\n",
      "        sample : List[Union[Array[float], Array[int], Array[str], float, int, str]]]\n",
      "            Provide samples (only if the histogram storage supports it)\n",
      "        \n"
     ]
    }
   ],
   "source": [
    "# docstring of fill() in NamedHist\n",
    "\n",
    "print(hist.NamedHist.fill.__doc__)"
   ]
  },
  {
   "cell_type": "code",
   "execution_count": 13,
   "metadata": {},
   "outputs": [
    {
     "name": "stdout",
     "output_type": "stream",
     "text": [
      "[0.  0.  0.5 2.  0.  0.  0.  0.  0.  0. ]\n"
     ]
    }
   ],
   "source": [
    "# checking `weight` parameter of fill() in NamedHist\n",
    "\n",
    "h = NamedHist(axis.Regular(10, 0, 1,name=\"x\"))\n",
    "h.fill(x=[.2, .3], weight=[.5, 2])\n",
    "\n",
    "print(h.view())\n",
    "\n",
    "assert h[{\"x\":bh.loc(.2)}]==0.5\n",
    "assert h[{\"x\":bh.loc(.3)}]==2.0"
   ]
  },
  {
   "cell_type": "code",
   "execution_count": 14,
   "metadata": {},
   "outputs": [
    {
     "data": {
      "text/plain": [
       "NamedHist(Regular(10, 0, 10, metadata={'name': 'x', 'title': None}), storage=Mean()) # Sum: Mean(count=3, value=0.4, variance=0.01)"
      ]
     },
     "execution_count": 14,
     "metadata": {},
     "output_type": "execute_result"
    }
   ],
   "source": [
    "# checking `sample` parameter of fill() in NamedHist\n",
    "\n",
    "h = NamedHist(axis.Regular(10, 0, 10, name=\"x\"), storage=bh.storage.Mean())\n",
    "h.fill(x=[0.5]*3, sample=[.3, .4, .5])"
   ]
  },
  {
   "cell_type": "markdown",
   "metadata": {},
   "source": [
    "## Example - 3.2\n",
    "`fill()` in `Hist`"
   ]
  },
  {
   "cell_type": "code",
   "execution_count": 15,
   "metadata": {},
   "outputs": [
    {
     "name": "stdout",
     "output_type": "stream",
     "text": [
      "\n",
      "        Fills only allowed by either passing values with the corresponding\n",
      "        keyword `name` or passing positional arguments.\n",
      "\n",
      "        Parameters\n",
      "        ----------\n",
      "        *args : positional arguments. Union[Array[float], Array[int], Array[str], float, int, str]\n",
      "            Provide one value or array per dimension.\n",
      "        **values : dict\n",
      "            Values passed as assigned keyword arguments.\n",
      "        weight : List[Union[Array[float], Array[int], Array[str], float, int, str]]]\n",
      "            Provide weights (only if the histogram storage supports it)\n",
      "        sample : List[Union[Array[float], Array[int], Array[str], float, int, str]]]\n",
      "            Provide samples (only if the histogram storage supports it)\n",
      "        \n"
     ]
    }
   ],
   "source": [
    "# docstring of fill() in Hist\n",
    "\n",
    "print(hist.Hist.fill.__doc__)"
   ]
  },
  {
   "cell_type": "code",
   "execution_count": 16,
   "metadata": {},
   "outputs": [
    {
     "name": "stdout",
     "output_type": "stream",
     "text": [
      "[0.  0.  0.5 2.  0.  0.  0.  0.  0.  0. ]\n"
     ]
    }
   ],
   "source": [
    "# checking `weight` parameter of fill() in Hist\n",
    "\n",
    "h = Hist(axis.Regular(10, 0, 1))\n",
    "h.fill([.2, .3], weight=[.5, 2])\n",
    "\n",
    "print(h.view())\n",
    "\n",
    "assert h[bh.loc(.2)]==0.5\n",
    "assert h[bh.loc(.3)]==2.0"
   ]
  },
  {
   "cell_type": "code",
   "execution_count": 17,
   "metadata": {},
   "outputs": [
    {
     "data": {
      "text/plain": [
       "Hist(Regular(10, 0, 10, metadata={'name': None, 'title': None}), storage=Mean()) # Sum: Mean(count=3, value=0.4, variance=0.01)"
      ]
     },
     "execution_count": 17,
     "metadata": {},
     "output_type": "execute_result"
    }
   ],
   "source": [
    "# checking `sample` parameter of fill() in Hist\n",
    "\n",
    "h = Hist(axis.Regular(10, 0, 10), storage=bh.storage.Mean())\n",
    "h.fill([0.5]*3, sample=[.3, .4, .5])"
   ]
  },
  {
   "cell_type": "markdown",
   "metadata": {},
   "source": [
    "# 4. Doc Strings\n",
    "\n",
    "Let us check some `doc strings` of our new package."
   ]
  },
  {
   "cell_type": "code",
   "execution_count": 18,
   "metadata": {},
   "outputs": [
    {
     "name": "stdout",
     "output_type": "stream",
     "text": [
      "\n",
      "    Similar to `boost_histogram.axis.Regular` class.\n",
      "    Supports functionality for adding `name` and `title` to the axis.\n",
      "    \n"
     ]
    }
   ],
   "source": [
    "# doc string of Regular axis class\n",
    "\n",
    "print(hist.axis.Regular.__doc__)\n",
    "\n",
    "# Similarly doc strings for other axis class can be obtained"
   ]
  },
  {
   "cell_type": "code",
   "execution_count": 19,
   "metadata": {},
   "outputs": [
    {
     "name": "stdout",
     "output_type": "stream",
     "text": [
      "\n",
      "        Make a regular axis with nice keyword arguments for underflow,\n",
      "        overflow, and growth.\n",
      "        Parameters\n",
      "        ----------\n",
      "        bins : int\n",
      "            The number of bins between start and stop\n",
      "        start : float\n",
      "            The beginning value for the axis\n",
      "        stop : float\n",
      "            The ending value for the axis\n",
      "        name : str\n",
      "            The name to be assigned to the axis\n",
      "        title : str\n",
      "            The title to be assigned to the axis\n",
      "        underflow : bool = True\n",
      "            Enable the underflow bin\n",
      "        overflow : bool = True\n",
      "            Enable the overflow bin\n",
      "        growth : bool = False\n",
      "            Allow the axis to grow if a value is encountered out of range.\n",
      "            Be careful, the axis will grow as large as needed.\n",
      "        circular : bool = False\n",
      "            Filling wraps around.\n",
      "        transform : Optional[AxisTransform] = None\n",
      "            Transform the regular bins (Log, Sqrt, and Pow(v))\n",
      "        \n"
     ]
    }
   ],
   "source": [
    "# doc string of Regular __init__ function\n",
    "\n",
    "print(hist.axis.Regular.__init__.__doc__)\n",
    "\n",
    "# Similarly doc strings for other axis __init__ function can be obtained"
   ]
  },
  {
   "cell_type": "code",
   "execution_count": 20,
   "metadata": {},
   "outputs": [
    {
     "name": "stdout",
     "output_type": "stream",
     "text": [
      "\n",
      "    NamedHist class.\n",
      "    Requires `name` to be set on any axis. `name` should be a valid identifier.\n",
      "    Requires keyword fills by name.\n",
      "    Allows (or requires) __getitem__ access by named dict key instead of axis number.\n",
      "    \n"
     ]
    }
   ],
   "source": [
    "# doc string of NamedHist class\n",
    "\n",
    "print(hist.NamedHist.__doc__)"
   ]
  },
  {
   "cell_type": "code",
   "execution_count": 21,
   "metadata": {},
   "outputs": [
    {
     "name": "stdout",
     "output_type": "stream",
     "text": [
      "\n",
      "    Hist plotting class. Currently supports only pull_plot plotting.\n",
      "    Axes of the Hist class should be filled as done in boost_histogram.\n",
      "    This class does not support axes filling by name.\n",
      "    Requires adding `title` as an axis option.\n",
      "    \n"
     ]
    }
   ],
   "source": [
    "# doc string of Hist class\n",
    "\n",
    "print(hist.Hist.__doc__)"
   ]
  },
  {
   "cell_type": "code",
   "execution_count": 22,
   "metadata": {},
   "outputs": [
    {
     "name": "stdout",
     "output_type": "stream",
     "text": [
      "\n",
      "        Generates a pull plot of the function passed.\n",
      "\n",
      "        Parameters\n",
      "        ----------\n",
      "        func : function\n",
      "            Callable function whose corresponding plots are to be generated.\n",
      "        ax : matplotlib.axes._subplots.AxesSubplot = None\n",
      "            Matplotlib axis for the upper subplot [Counts vs title].\n",
      "        pull_ax : matplotlib.axes._subplots.AxesSubplot = None\n",
      "            Matplotlib axis for the lower subplot [Pull vs title].\n",
      "        \n"
     ]
    }
   ],
   "source": [
    "# doc string of Hist pull_plot function\n",
    "\n",
    "print(hist.Hist.pull_plot.__doc__)"
   ]
  },
  {
   "cell_type": "code",
   "execution_count": null,
   "metadata": {},
   "outputs": [],
   "source": []
  }
 ],
 "metadata": {
  "kernelspec": {
   "display_name": "Python (hist_env)",
   "language": "python",
   "name": "hist_env"
  },
  "language_info": {
   "codemirror_mode": {
    "name": "ipython",
    "version": 3
   },
   "file_extension": ".py",
   "mimetype": "text/x-python",
   "name": "python",
   "nbconvert_exporter": "python",
   "pygments_lexer": "ipython3",
   "version": "3.6.9"
  }
 },
 "nbformat": 4,
 "nbformat_minor": 4
}
